{
    "metadata": {
        "language_info": {
            "codemirror_mode": {
                "name": "ipython", 
                "version": 2
            }, 
            "file_extension": ".py", 
            "version": "2.7.11", 
            "name": "python", 
            "pygments_lexer": "ipython2", 
            "mimetype": "text/x-python", 
            "nbconvert_exporter": "python"
        }, 
        "kernelspec": {
            "language": "python", 
            "display_name": "Python 2 with Spark 1.6", 
            "name": "python2"
        }
    }, 
    "nbformat": 4, 
    "cells": [
        {
            "metadata": {}, 
            "cell_type": "markdown", 
            "source": "# <span style=\"color:blue\">Introduction to Brunel</span>"
        }, 
        {
            "metadata": {}, 
            "cell_type": "markdown", 
            "source": "## Detailed Brunel documentation can be found at: http://brunel.mybluemix.net/docs/Brunel%20Documentation.pdf"
        }, 
        {
            "metadata": {}, 
            "cell_type": "markdown", 
            "source": "## In the few examples below, we will be using the data set at the following location: http://brunel.mybluemix.net/sample_data/US%20States.csv\n\n### In the cell below, you can see a short snippet of the data. The header row is highligthed in <span style=\"color:blue\">blue</span>."
        }, 
        {
            "metadata": {}, 
            "cell_type": "markdown", 
            "source": "<span style=\"color:blue\"> Abbr,State,Date,Region,Population,Under 18,Area,Latitude,Longitude,Water,Density,Summer,Winter,Rain,Violent Crimes,Income,Dem/Rep,Presidential Choice,Boys Name,Girls Name</span><br>AL,Alabama,1819-12-14,South,4849377,22.8,52420,32.74,-86.84,3.5,92.5,78.6,46.5,58.3,425,41415,-22.2,Romney,William,Eva<br>AK,Alaska,1959-01-03,Pacific,736732,25.3,665384,63.35,-152.84,16.6,1.1,52.3,2.6,22.5,688,69825,-14,Romney,Liam,Emma<br>AZ,Arizona,1912-02-14,Mountain,6731484,24.1,113990,34.21,-111.6,0.3,59.1,78.1,43.6,13.6,501,46709,-9.1,Romney,Noah,Sophia<br>AR,Arkansas,1836-06-15,South,2966369,23.8,53179,34.9,-92.44,2.2,55.8,78.8,41.5,50.6,552,38758,-23.7,Romney,Mason,Emma"
        }, 
        {
            "metadata": {}, 
            "cell_type": "markdown", 
            "source": "# Basics:\n### In brunel, we will almost systematically define an x and y axis and identify the variable or column name from the dataset which corresponds to each. Examples include x(latitude) y(longitude) if the intention is to plot a longitude versus latitude graph.\n### There are a few different ways the data can be displayed: point, bar, line, text, area, polygon, path. The default is point if nothing is specified."
        }, 
        {
            "metadata": {}, 
            "cell_type": "markdown", 
            "source": "### First example, we wish to plot the Longitude versus Latitude from the dataset above, as points (default)."
        }, 
        {
            "metadata": {
                "collapsed": true
            }, 
            "execution_count": 1, 
            "outputs": [], 
            "cell_type": "code", 
            "source": "import brunel"
        }, 
        {
            "metadata": {
                "collapsed": false, 
                "scrolled": false
            }, 
            "execution_count": 2, 
            "outputs": [
                {
                    "metadata": {}, 
                    "data": {
                        "text/html": "<!--\n  ~ Copyright (c) 2015 IBM Corporation and others.\n  ~\n  ~ Licensed under the Apache License, Version 2.0 (the \"License\");\n  ~ You may not use this file except in compliance with the License.\n  ~ You may obtain a copy of the License at\n  ~\n  ~     http://www.apache.org/licenses/LICENSE-2.0\n  ~\n  ~ Unless required by applicable law or agreed to in writing, software\n  ~ distributed under the License is distributed on an \"AS IS\" BASIS,\n  ~ WITHOUT WARRANTIES OR CONDITIONS OF ANY KIND, either express or implied.\n  ~ See the License for the specific language governing permissions and\n  ~ limitations under the License.\n  -->\n\n\n<link rel=\"stylesheet\" type=\"text/css\" href=\"/data/jupyter2/60caa014-1ad7-4881-b5a8-b4d76d9c56b6/nbextensions/brunel_ext/Brunel.css\">\n<link rel=\"stylesheet\" type=\"text/css\" href=\"/data/jupyter2/60caa014-1ad7-4881-b5a8-b4d76d9c56b6/nbextensions/brunel_ext/sumoselect/sumoselect.css\">\n\n<style>\n    \n</style>\n\n<svg id=\"visidb897c356-1ac9-11e7-b2e3-002590fb646c\" width=\"500\" height=\"400\"></svg>", 
                        "text/plain": "<IPython.core.display.HTML object>"
                    }, 
                    "output_type": "display_data"
                }, 
                {
                    "metadata": {}, 
                    "data": {
                        "text/plain": "<IPython.core.display.Javascript object>", 
                        "application/javascript": "/*\n * Copyright (c) 2015 IBM Corporation and others.\n *\n * Licensed under the Apache License, Version 2.0 (the \"License\");\n * You may not use this file except in compliance with the License.\n * You may obtain a copy of the License at\n *\n *     http://www.apache.org/licenses/LICENSE-2.0\n *\n * Unless required by applicable law or agreed to in writing, software\n * distributed under the License is distributed on an \"AS IS\" BASIS,\n * WITHOUT WARRANTIES OR CONDITIONS OF ANY KIND, either express or implied.\n * See the License for the specific language governing permissions and\n * limitations under the License.\n */\n\nrequire.config({\n    waitSeconds: 60,\n    paths: {\n        'd3': '//cdnjs.cloudflare.com/ajax/libs/d3/3.5.5/d3.min',\n        'BrunelD3': '/data/jupyter2/60caa014-1ad7-4881-b5a8-b4d76d9c56b6/nbextensions/brunel_ext/BrunelD3',\n        'BrunelData': '/data/jupyter2/60caa014-1ad7-4881-b5a8-b4d76d9c56b6/nbextensions/brunel_ext/BrunelData',\n        'BrunelEventHandlers': '/data/jupyter2/60caa014-1ad7-4881-b5a8-b4d76d9c56b6/nbextensions/brunel_ext/BrunelEventHandlers'\n    },\n    shim: {\n        'BrunelD3': {\n            exports: 'BrunelD3'\n        },\n        'BrunelData': {\n            exports: 'BrunelData'\n        },\n        'BrunelEventHandlers': {\n            exports: 'BrunelEventHandlers'\n        },\n    }\n\n});\n\nrequire([\"d3\"], function(d3) {\nrequire([\"BrunelD3\", \"BrunelData\", \"BrunelEventHandlers\"], function(BrunelD3, BrunelData, BrunelEventHandlers) {\n    function  BrunelVis(visId) {\n  \"use strict\"; // Strict Mode\n  var datasets = [],                               // Array of datasets for the original data\n      pre = function(d, i) { return d },           // Default pre-process does nothing\n      post = function(d, i) { return d },          // Default post-process does nothing\n      transitionTime = 200,                        // Transition time for animations\n      charts = [],                                 // The charts in the system\n      vis = d3.select('#' + visId).attr('class', 'brunel');  // the SVG container\n\n  // Define chart #1 in the visualization //////////////////////////////////////////////////////////\n\n  charts[0] = function(parentNode, filterRows) {\n    var geom = BrunelD3.geometry(parentNode || vis.node(), 0, 0, 1, 1, 5, 52, 36, 12),\n      elements = [];                               // Array of elements in this chart\n\n    // Define groups for the chart parts ///////////////////////////////////////////////////////////\n\n    var chart = vis.append('g').attr('class', 'chart1')\n      .attr('transform','translate(' + geom.chart_left + ',' + geom.chart_top + ')');\n    chart.append('rect').attr('class', 'background').attr('width', geom.chart_right-geom.chart_left).attr('height', geom.chart_bottom-geom.chart_top);\n    var interior = chart.append('g').attr('class', 'interior')\n      .attr('transform','translate(' + geom.inner_left + ',' + geom.inner_top + ')')\n      .attr('clip-path', 'url(#clip_visidb897c356-1ac9-11e7-b2e3-002590fb646c_1)');\n    interior.append('rect').attr('class', 'inner').attr('width', geom.inner_width).attr('height', geom.inner_height);\n    var overlay = interior.append('g').attr('class', 'element')\n      .attr('class', 'overlay').style('cursor','move').style('fill','none').style('pointer-events','all');\n    var zoom = d3.behavior.zoom().on('zoom', function() {build(-1)} );\n    overlay.append('rect').attr('class', 'overlay')\n      .attr('width', geom.inner_width)\n      .attr('height', geom.inner_height)\n      .call(zoom);\n    var axes = chart.append('g').attr('class', 'axis')\n      .attr('transform','translate(' + geom.inner_left + ',' + geom.inner_top + ')');\n    vis.append('clipPath').attr('id', 'clip_visidb897c356-1ac9-11e7-b2e3-002590fb646c_1').append('rect')\n      .attr('x', -1).attr('y', -1)\n      .attr('width', geom.inner_width+2).attr('height', geom.inner_height+2);\n\n    // Scales //////////////////////////////////////////////////////////////////////////////////////\n\n    var scale_x = d3.scale.linear()\n      .domain([15, 65])\n      .range([0, geom.inner_width]);\n    var scale_inner = d3.scale.linear().domain([0,1])\n      .range([-0.5, 0.5]);\n    var scale_y = d3.scale.linear()\n      .domain([-160, -60])\n      .range([geom.inner_height,0]);\n    zoom.x(scale_x).y(scale_y);\n\n    // Axes ////////////////////////////////////////////////////////////////////////////////////////\n\n    axes.append('g').attr('class', 'x axis')\n      .attr('transform','translate(0,' + geom.inner_height + ')');\n    axes.select('g.axis.x').append('text').attr('class', 'title')\n      .attr('text-anchor', 'middle')\n      .attr('x', geom.inner_width/2)\n      .attr('y', geom.inner_bottom - 6)\n      .text('Latitude');\n    axes.append('g').attr('class', 'y axis')\n      .attr('transform','translate(geom.chart_left, 0)');\n    axes.select('g.axis.y').append('text').attr('class', 'title')\n      .attr('text-anchor', 'middle')\n      .attr('x', -geom.inner_height/2)\n      .attr('y', 6-geom.inner_left).attr('dy', '0.7em').attr('transform', 'rotate(270)')\n      .text('Longitude');\n\n    var axis_bottom = d3.svg.axis()\n      .scale(scale_x).innerTickSize(3).outerTickSize(0)\n      .ticks(Math.min(10, Math.round(geom.inner_width / 28.5)));\n    var axis_left = d3.svg.axis().orient('left')\n      .scale(scale_y).innerTickSize(3).outerTickSize(0);\n\n    function buildAxes() {\n      axes.select('g.axis.x').call(axis_bottom);\n      axes.select('g.axis.y').call(axis_left);\n    }\n\n    // Define element #1 ///////////////////////////////////////////////////////////////////////////\n\n    elements[0] = function() {\n      var original, processed,           // data sets passed in and then transformed\n        element, data,                   // Brunel element information and brunel data\n        selection;                       // D3 selection\n      var elementGroup = interior.append('g').attr('class', 'element1'),\n        main = elementGroup.append('g').attr('class', 'main'),\n        labels = BrunelD3.undoTransform(elementGroup.append('g').attr('class', 'labels'), elementGroup);\n\n      function makeData() {\n        original = datasets[0];\n        if (filterRows) original = original.retainRows(filterRows);\n        processed = pre(original, 0);\n        processed = post(processed, 0);\n        var f0 = processed.field('Latitude'),\n          f1 = processed.field('Longitude'),\n          f2 = processed.field('#row');\n        var keyFunc = function(d) { return f2.value(d) };\n        data = {\n          Latitude:     function(d) { return f0.value(d.row) },\n          Longitude:    function(d) { return f1.value(d.row) },\n          $row:         function(d) { return f2.value(d.row) },\n          Latitude_f:   function(d) { return f0.valueFormatted(d.row) },\n          Longitude_f:  function(d) { return f1.valueFormatted(d.row) },\n          $row_f:       function(d) { return f2.valueFormatted(d.row) },\n          _split:       function(d) { return 'ALL' },\n          _key:         keyFunc,\n          _rows:        BrunelD3.makeRowsWithKeys(keyFunc, processed.rowCount())\n        };\n      }\n\n      // Build element from data ///////////////////////////////////////////////////////////////////\n\n      function build(transitionMillis) {\n        element = elements[0];\n        var x = function(d) { return scale_x(data.Latitude(d))};\n        var w = geom.default_point_size;\n        var y = function(d) { return scale_y(data.Longitude(d))};\n        var h = geom.default_point_size;\n        selection = main.selectAll('*').data(data._rows, function(d) { return d.key});\n        selection.enter().append('circle').attr('class',  'element point filled');\n\n        BrunelD3.trans(selection,transitionMillis)\n          .attr('cx',function(d) { return scale_x(data.Latitude(d))})\n          .attr('cy',function(d) { return scale_y(data.Longitude(d))})\n          .attr('r',geom.default_point_size / 2);\n\n        BrunelD3.trans(selection.exit(),transitionMillis/3)\n          .style('opacity', 0.5).each( function() {this.remove(); if (this.__label__) this.__label__.remove()});\n      }\n\n      return {\n        data:           function() { return processed },\n        internal:       function() { return data },\n        selection:      function() { return selection },\n        makeData:       makeData,\n        build:          build,\n        fields: {\n          x:            ['Latitude'],\n          y:            ['Longitude']\n        }\n      };\n    }();\n\n    function build(time) {\n      var first = elements[0].data() == null;\n      if (first) time = 0; // No transition for first call\n      buildAxes(); \n      if (first || time>0) elements[0].makeData();\n      elements[0].build(time);\n    }\n\n    // Expose the following components of the chart\n    return { build : build, elements : elements };\n    }();\n\n  function setData(rowData, i) { datasets[i||0] = BrunelD3.makeData(rowData) }\n  function updateAll(time) { charts.forEach(function(x) {x.build(time || 20)}) }\n  function buildAll() {\n    for (var i=0;i<arguments.length;i++) setData(arguments[i], i);\n    updateAll(transitionTime);\n  }\n\n  return {\n    dataPreProcess:     function(f) { if (f) pre = f; return pre },\n    dataPostProcess:    function(f) { if (f) post = f; return post },\n    data:               function(d,i) { if (d) setData(d,i); return datasets[i||0] },\n    visId:              visId,\n    build:              buildAll,\n    rebuild:            updateAll,\n    charts:             charts\n  }\n}\n\n// Data Tables /////////////////////////////////////////////////////////////////////////////////////\n\nvar table1 = {\n   names: ['Latitude', 'Longitude'], \n   options: ['numeric', 'numeric'], \n   rows: [[32.74, -86.84], [63.35, -152.84], [34.21, -111.6], [34.9, -92.44], [37.15, -119.54],\n  [38.99, -105.51], [41.58, -72.75], [38.99, -75.45], [28.46, -82.41], [32.63, -83.42],\n  [19.81, -155.51], [44.3, -114.6], [40.1, -89.15], [39.9, -86.28], [42.07, -93.49], [38.5, -98.38],\n  [37.53, -85.29], [30.86, -91.8], [45.39, -68.66], [38.95, -76.67], [42.16, -71.49],\n  [44.84, -85.66], [46.32, -94.2], [32.69, -89.66], [38.35, -92.46], [47.05, -109.63],\n  [41.54, -99.81], [39.33, -116.62], [43.67, -71.58], [40.11, -74.67], [34.44, -106.13],\n  [42.91, -75.6], [35.54, -79.13], [47.46, -100.46], [40.41, -82.71], [35.59, -97.49],\n  [43.97, -120.62], [40.9, -77.83], [41.6, -71.53], [33.87, -80.85], [44.45, -100.24],\n  [35.86, -86.35], [31.43, -99.28], [39.33, -111.66], [44.06, -72.67], [37.52, -78.67],\n  [47.42, -120.6], [38.65, -80.62], [44.63, -89.71], [42.99, -107.54]]\n};\n\n// Call Code to Build the system ///////////////////////////////////////////////////////////////////\n\nvar v = new BrunelVis('visidb897c356-1ac9-11e7-b2e3-002590fb646c');\nv.build(table1);\n\n    \n});\n});"
                    }, 
                    "execution_count": 2, 
                    "output_type": "execute_result"
                }
            ], 
            "cell_type": "code", 
            "source": "%brunel data(\"http://brunel.mybluemix.net/sample_data/US States.csv\") x(latitude) y(longitude)"
        }, 
        {
            "metadata": {
                "collapsed": true
            }, 
            "cell_type": "markdown", 
            "source": "### We can hover the mouse over the diagram above, when it takes the shape of a cross with 4 arrows, we can drag the diagram, or zoom-in zoom-out using the mouse wheel."
        }, 
        {
            "metadata": {}, 
            "cell_type": "markdown", 
            "source": "### Instead of points, we can represent our data set as a line."
        }, 
        {
            "metadata": {
                "collapsed": false
            }, 
            "execution_count": 3, 
            "outputs": [
                {
                    "metadata": {}, 
                    "data": {
                        "text/html": "<!--\n  ~ Copyright (c) 2015 IBM Corporation and others.\n  ~\n  ~ Licensed under the Apache License, Version 2.0 (the \"License\");\n  ~ You may not use this file except in compliance with the License.\n  ~ You may obtain a copy of the License at\n  ~\n  ~     http://www.apache.org/licenses/LICENSE-2.0\n  ~\n  ~ Unless required by applicable law or agreed to in writing, software\n  ~ distributed under the License is distributed on an \"AS IS\" BASIS,\n  ~ WITHOUT WARRANTIES OR CONDITIONS OF ANY KIND, either express or implied.\n  ~ See the License for the specific language governing permissions and\n  ~ limitations under the License.\n  -->\n\n\n<link rel=\"stylesheet\" type=\"text/css\" href=\"/data/jupyter2/60caa014-1ad7-4881-b5a8-b4d76d9c56b6/nbextensions/brunel_ext/Brunel.css\">\n<link rel=\"stylesheet\" type=\"text/css\" href=\"/data/jupyter2/60caa014-1ad7-4881-b5a8-b4d76d9c56b6/nbextensions/brunel_ext/sumoselect/sumoselect.css\">\n\n<style>\n    \n</style>\n\n<svg id=\"visidc193ff38-1ac9-11e7-b2e3-002590fb646c\" width=\"500\" height=\"400\"></svg>", 
                        "text/plain": "<IPython.core.display.HTML object>"
                    }, 
                    "output_type": "display_data"
                }, 
                {
                    "metadata": {}, 
                    "data": {
                        "text/plain": "<IPython.core.display.Javascript object>", 
                        "application/javascript": "/*\n * Copyright (c) 2015 IBM Corporation and others.\n *\n * Licensed under the Apache License, Version 2.0 (the \"License\");\n * You may not use this file except in compliance with the License.\n * You may obtain a copy of the License at\n *\n *     http://www.apache.org/licenses/LICENSE-2.0\n *\n * Unless required by applicable law or agreed to in writing, software\n * distributed under the License is distributed on an \"AS IS\" BASIS,\n * WITHOUT WARRANTIES OR CONDITIONS OF ANY KIND, either express or implied.\n * See the License for the specific language governing permissions and\n * limitations under the License.\n */\n\nrequire.config({\n    waitSeconds: 60,\n    paths: {\n        'd3': '//cdnjs.cloudflare.com/ajax/libs/d3/3.5.5/d3.min',\n        'BrunelD3': '/data/jupyter2/60caa014-1ad7-4881-b5a8-b4d76d9c56b6/nbextensions/brunel_ext/BrunelD3',\n        'BrunelData': '/data/jupyter2/60caa014-1ad7-4881-b5a8-b4d76d9c56b6/nbextensions/brunel_ext/BrunelData',\n        'BrunelEventHandlers': '/data/jupyter2/60caa014-1ad7-4881-b5a8-b4d76d9c56b6/nbextensions/brunel_ext/BrunelEventHandlers'\n    },\n    shim: {\n        'BrunelD3': {\n            exports: 'BrunelD3'\n        },\n        'BrunelData': {\n            exports: 'BrunelData'\n        },\n        'BrunelEventHandlers': {\n            exports: 'BrunelEventHandlers'\n        },\n    }\n\n});\n\nrequire([\"d3\"], function(d3) {\nrequire([\"BrunelD3\", \"BrunelData\", \"BrunelEventHandlers\"], function(BrunelD3, BrunelData, BrunelEventHandlers) {\n    function  BrunelVis(visId) {\n  \"use strict\"; // Strict Mode\n  var datasets = [],                               // Array of datasets for the original data\n      pre = function(d, i) { return d },           // Default pre-process does nothing\n      post = function(d, i) { return d },          // Default post-process does nothing\n      transitionTime = 200,                        // Transition time for animations\n      charts = [],                                 // The charts in the system\n      vis = d3.select('#' + visId).attr('class', 'brunel');  // the SVG container\n\n  // Define chart #1 in the visualization //////////////////////////////////////////////////////////\n\n  charts[0] = function(parentNode, filterRows) {\n    var geom = BrunelD3.geometry(parentNode || vis.node(), 0, 0, 1, 1, 5, 52, 36, 12),\n      elements = [];                               // Array of elements in this chart\n\n    // Define groups for the chart parts ///////////////////////////////////////////////////////////\n\n    var chart = vis.append('g').attr('class', 'chart1')\n      .attr('transform','translate(' + geom.chart_left + ',' + geom.chart_top + ')');\n    chart.append('rect').attr('class', 'background').attr('width', geom.chart_right-geom.chart_left).attr('height', geom.chart_bottom-geom.chart_top);\n    var interior = chart.append('g').attr('class', 'interior')\n      .attr('transform','translate(' + geom.inner_left + ',' + geom.inner_top + ')')\n      .attr('clip-path', 'url(#clip_visidc193ff38-1ac9-11e7-b2e3-002590fb646c_1)');\n    interior.append('rect').attr('class', 'inner').attr('width', geom.inner_width).attr('height', geom.inner_height);\n    var overlay = interior.append('g').attr('class', 'element')\n      .attr('class', 'overlay').style('cursor','move').style('fill','none').style('pointer-events','all');\n    var zoom = d3.behavior.zoom().on('zoom', function() {build(-1)} );\n    overlay.append('rect').attr('class', 'overlay')\n      .attr('width', geom.inner_width)\n      .attr('height', geom.inner_height)\n      .call(zoom);\n    var axes = chart.append('g').attr('class', 'axis')\n      .attr('transform','translate(' + geom.inner_left + ',' + geom.inner_top + ')');\n    vis.append('clipPath').attr('id', 'clip_visidc193ff38-1ac9-11e7-b2e3-002590fb646c_1').append('rect')\n      .attr('x', -1).attr('y', -1)\n      .attr('width', geom.inner_width+2).attr('height', geom.inner_height+2);\n\n    // Scales //////////////////////////////////////////////////////////////////////////////////////\n\n    var scale_x = d3.scale.linear()\n      .domain([19.81, 63.35])\n      .range([0, geom.inner_width]);\n    var scale_inner = d3.scale.linear().domain([0,1])\n      .range([-0.5, 0.5]);\n    var scale_y = d3.scale.linear()\n      .domain([-160, -60])\n      .range([geom.inner_height,0]);\n    zoom.x(scale_x).y(scale_y);\n\n    // Axes ////////////////////////////////////////////////////////////////////////////////////////\n\n    axes.append('g').attr('class', 'x axis')\n      .attr('transform','translate(0,' + geom.inner_height + ')');\n    axes.select('g.axis.x').append('text').attr('class', 'title')\n      .attr('text-anchor', 'middle')\n      .attr('x', geom.inner_width/2)\n      .attr('y', geom.inner_bottom - 6)\n      .text('Latitude');\n    axes.append('g').attr('class', 'y axis')\n      .attr('transform','translate(geom.chart_left, 0)');\n    axes.select('g.axis.y').append('text').attr('class', 'title')\n      .attr('text-anchor', 'middle')\n      .attr('x', -geom.inner_height/2)\n      .attr('y', 6-geom.inner_left).attr('dy', '0.7em').attr('transform', 'rotate(270)')\n      .text('Longitude');\n\n    var axis_bottom = d3.svg.axis()\n      .scale(scale_x).innerTickSize(3).outerTickSize(0)\n      .ticks(Math.min(10, Math.round(geom.inner_width / 28.5)));\n    var axis_left = d3.svg.axis().orient('left')\n      .scale(scale_y).innerTickSize(3).outerTickSize(0);\n\n    function buildAxes() {\n      axes.select('g.axis.x').call(axis_bottom);\n      axes.select('g.axis.y').call(axis_left);\n    }\n\n    // Define element #1 ///////////////////////////////////////////////////////////////////////////\n\n    elements[0] = function() {\n      var original, processed,           // data sets passed in and then transformed\n        element, data,                   // Brunel element information and brunel data\n        selection;                       // D3 selection\n      var elementGroup = interior.append('g').attr('class', 'element1'),\n        main = elementGroup.append('g').attr('class', 'main'),\n        labels = BrunelD3.undoTransform(elementGroup.append('g').attr('class', 'labels'), elementGroup);\n\n      function makeData() {\n        original = datasets[0];\n        if (filterRows) original = original.retainRows(filterRows);\n        processed = pre(original, 0)\n          .sortRows('Latitude:ascending');\n        processed = post(processed, 0);\n        var f0 = processed.field('Latitude'),\n          f1 = processed.field('Longitude'),\n          f2 = processed.field('#row');\n        var keyFunc = function(d) { return 'ALL' };\n        data = {\n          Latitude:     function(d) { return f0.value(d.row) },\n          Longitude:    function(d) { return f1.value(d.row) },\n          $row:         function(d) { return f2.value(d.row) },\n          Latitude_f:   function(d) { return f0.valueFormatted(d.row) },\n          Longitude_f:  function(d) { return f1.valueFormatted(d.row) },\n          $row_f:       function(d) { return f2.valueFormatted(d.row) },\n          _split:       function(d) { return 'ALL' },\n          _key:         keyFunc,\n          _rows:        BrunelD3.makeRowsWithKeys(keyFunc, processed.rowCount())\n        };\n      }\n\n      // Build element from data ///////////////////////////////////////////////////////////////////\n\n      function build(transitionMillis) {\n        element = elements[0];\n        var x = function(d) { return scale_x(data.Latitude(d))};\n        var w = geom.default_point_size;\n        var y = function(d) { return scale_y(data.Longitude(d))};\n        var h = geom.default_point_size;\n        var path = d3.svg.line().x(x).y(y);\n        var splits = BrunelD3.makePathSplits(data, path, x);\n        selection = main.selectAll('*').data(splits, function(d) { return d.key});\n        selection.enter().append('path').attr('class',  'element line');\n\n        BrunelD3.trans(selection,transitionMillis)\n          .attr('d', function(d) { return d.path });\n\n        BrunelD3.trans(selection.exit(),transitionMillis/3)\n          .style('opacity', 0.5).each( function() {this.remove(); if (this.__label__) this.__label__.remove()});\n      }\n\n      return {\n        data:           function() { return processed },\n        internal:       function() { return data },\n        selection:      function() { return selection },\n        makeData:       makeData,\n        build:          build,\n        fields: {\n          x:            ['Latitude'],\n          y:            ['Longitude']\n        }\n      };\n    }();\n\n    function build(time) {\n      var first = elements[0].data() == null;\n      if (first) time = 0; // No transition for first call\n      buildAxes(); \n      if (first || time>0) elements[0].makeData();\n      elements[0].build(time);\n    }\n\n    // Expose the following components of the chart\n    return { build : build, elements : elements };\n    }();\n\n  function setData(rowData, i) { datasets[i||0] = BrunelD3.makeData(rowData) }\n  function updateAll(time) { charts.forEach(function(x) {x.build(time || 20)}) }\n  function buildAll() {\n    for (var i=0;i<arguments.length;i++) setData(arguments[i], i);\n    updateAll(transitionTime);\n  }\n\n  return {\n    dataPreProcess:     function(f) { if (f) pre = f; return pre },\n    dataPostProcess:    function(f) { if (f) post = f; return post },\n    data:               function(d,i) { if (d) setData(d,i); return datasets[i||0] },\n    visId:              visId,\n    build:              buildAll,\n    rebuild:            updateAll,\n    charts:             charts\n  }\n}\n\n// Data Tables /////////////////////////////////////////////////////////////////////////////////////\n\nvar table1 = {\n   names: ['Latitude', 'Longitude'], \n   options: ['numeric', 'numeric'], \n   rows: [[32.74, -86.84], [63.35, -152.84], [34.21, -111.6], [34.9, -92.44], [37.15, -119.54],\n  [38.99, -105.51], [41.58, -72.75], [38.99, -75.45], [28.46, -82.41], [32.63, -83.42],\n  [19.81, -155.51], [44.3, -114.6], [40.1, -89.15], [39.9, -86.28], [42.07, -93.49], [38.5, -98.38],\n  [37.53, -85.29], [30.86, -91.8], [45.39, -68.66], [38.95, -76.67], [42.16, -71.49],\n  [44.84, -85.66], [46.32, -94.2], [32.69, -89.66], [38.35, -92.46], [47.05, -109.63],\n  [41.54, -99.81], [39.33, -116.62], [43.67, -71.58], [40.11, -74.67], [34.44, -106.13],\n  [42.91, -75.6], [35.54, -79.13], [47.46, -100.46], [40.41, -82.71], [35.59, -97.49],\n  [43.97, -120.62], [40.9, -77.83], [41.6, -71.53], [33.87, -80.85], [44.45, -100.24],\n  [35.86, -86.35], [31.43, -99.28], [39.33, -111.66], [44.06, -72.67], [37.52, -78.67],\n  [47.42, -120.6], [38.65, -80.62], [44.63, -89.71], [42.99, -107.54]]\n};\n\n// Call Code to Build the system ///////////////////////////////////////////////////////////////////\n\nvar v = new BrunelVis('visidc193ff38-1ac9-11e7-b2e3-002590fb646c');\nv.build(table1);\n\n    \n});\n});"
                    }, 
                    "execution_count": 3, 
                    "output_type": "execute_result"
                }
            ], 
            "cell_type": "code", 
            "source": "%brunel data(\"http://brunel.mybluemix.net/sample_data/US States.csv\") x(latitude) y(longitude) line"
        }, 
        {
            "metadata": {}, 
            "cell_type": "markdown", 
            "source": "### The data can then be grouped according to another attribute, such as the \"region\" attribute in the data set. This can be done to point or line graphs."
        }, 
        {
            "metadata": {
                "collapsed": false
            }, 
            "execution_count": 4, 
            "outputs": [
                {
                    "metadata": {}, 
                    "data": {
                        "text/html": "<!--\n  ~ Copyright (c) 2015 IBM Corporation and others.\n  ~\n  ~ Licensed under the Apache License, Version 2.0 (the \"License\");\n  ~ You may not use this file except in compliance with the License.\n  ~ You may obtain a copy of the License at\n  ~\n  ~     http://www.apache.org/licenses/LICENSE-2.0\n  ~\n  ~ Unless required by applicable law or agreed to in writing, software\n  ~ distributed under the License is distributed on an \"AS IS\" BASIS,\n  ~ WITHOUT WARRANTIES OR CONDITIONS OF ANY KIND, either express or implied.\n  ~ See the License for the specific language governing permissions and\n  ~ limitations under the License.\n  -->\n\n\n<link rel=\"stylesheet\" type=\"text/css\" href=\"/data/jupyter2/60caa014-1ad7-4881-b5a8-b4d76d9c56b6/nbextensions/brunel_ext/Brunel.css\">\n<link rel=\"stylesheet\" type=\"text/css\" href=\"/data/jupyter2/60caa014-1ad7-4881-b5a8-b4d76d9c56b6/nbextensions/brunel_ext/sumoselect/sumoselect.css\">\n\n<style>\n    \n</style>\n\n<svg id=\"visidc7122f02-1ac9-11e7-b2e3-002590fb646c\" width=\"500\" height=\"400\"></svg>", 
                        "text/plain": "<IPython.core.display.HTML object>"
                    }, 
                    "output_type": "display_data"
                }, 
                {
                    "metadata": {}, 
                    "data": {
                        "text/plain": "<IPython.core.display.Javascript object>", 
                        "application/javascript": "/*\n * Copyright (c) 2015 IBM Corporation and others.\n *\n * Licensed under the Apache License, Version 2.0 (the \"License\");\n * You may not use this file except in compliance with the License.\n * You may obtain a copy of the License at\n *\n *     http://www.apache.org/licenses/LICENSE-2.0\n *\n * Unless required by applicable law or agreed to in writing, software\n * distributed under the License is distributed on an \"AS IS\" BASIS,\n * WITHOUT WARRANTIES OR CONDITIONS OF ANY KIND, either express or implied.\n * See the License for the specific language governing permissions and\n * limitations under the License.\n */\n\nrequire.config({\n    waitSeconds: 60,\n    paths: {\n        'd3': '//cdnjs.cloudflare.com/ajax/libs/d3/3.5.5/d3.min',\n        'BrunelD3': '/data/jupyter2/60caa014-1ad7-4881-b5a8-b4d76d9c56b6/nbextensions/brunel_ext/BrunelD3',\n        'BrunelData': '/data/jupyter2/60caa014-1ad7-4881-b5a8-b4d76d9c56b6/nbextensions/brunel_ext/BrunelData',\n        'BrunelEventHandlers': '/data/jupyter2/60caa014-1ad7-4881-b5a8-b4d76d9c56b6/nbextensions/brunel_ext/BrunelEventHandlers'\n    },\n    shim: {\n        'BrunelD3': {\n            exports: 'BrunelD3'\n        },\n        'BrunelData': {\n            exports: 'BrunelData'\n        },\n        'BrunelEventHandlers': {\n            exports: 'BrunelEventHandlers'\n        },\n    }\n\n});\n\nrequire([\"d3\"], function(d3) {\nrequire([\"BrunelD3\", \"BrunelData\", \"BrunelEventHandlers\"], function(BrunelD3, BrunelData, BrunelEventHandlers) {\n    function  BrunelVis(visId) {\n  \"use strict\"; // Strict Mode\n  var datasets = [],                               // Array of datasets for the original data\n      pre = function(d, i) { return d },           // Default pre-process does nothing\n      post = function(d, i) { return d },          // Default post-process does nothing\n      transitionTime = 200,                        // Transition time for animations\n      charts = [],                                 // The charts in the system\n      vis = d3.select('#' + visId).attr('class', 'brunel');  // the SVG container\n\n  // Define chart #1 in the visualization //////////////////////////////////////////////////////////\n\n  charts[0] = function(parentNode, filterRows) {\n    var geom = BrunelD3.geometry(parentNode || vis.node(), 0, 0, 1, 1, 5, 52, 36, 129),\n      elements = [];                               // Array of elements in this chart\n\n    // Define groups for the chart parts ///////////////////////////////////////////////////////////\n\n    var chart = vis.append('g').attr('class', 'chart1')\n      .attr('transform','translate(' + geom.chart_left + ',' + geom.chart_top + ')');\n    chart.append('rect').attr('class', 'background').attr('width', geom.chart_right-geom.chart_left).attr('height', geom.chart_bottom-geom.chart_top);\n    var interior = chart.append('g').attr('class', 'interior')\n      .attr('transform','translate(' + geom.inner_left + ',' + geom.inner_top + ')')\n      .attr('clip-path', 'url(#clip_visidc7122f02-1ac9-11e7-b2e3-002590fb646c_1)');\n    interior.append('rect').attr('class', 'inner').attr('width', geom.inner_width).attr('height', geom.inner_height);\n    var overlay = interior.append('g').attr('class', 'element')\n      .attr('class', 'overlay').style('cursor','move').style('fill','none').style('pointer-events','all');\n    var zoom = d3.behavior.zoom().on('zoom', function() {build(-1)} );\n    overlay.append('rect').attr('class', 'overlay')\n      .attr('width', geom.inner_width)\n      .attr('height', geom.inner_height)\n      .call(zoom);\n    var axes = chart.append('g').attr('class', 'axis')\n      .attr('transform','translate(' + geom.inner_left + ',' + geom.inner_top + ')');\n    var legends = chart.append('g').attr('class', 'legend')\n      .attr('transform','translate(' + (geom.chart_right-geom.chart_left - 3) + ',' + 0 + ')');\n    vis.append('clipPath').attr('id', 'clip_visidc7122f02-1ac9-11e7-b2e3-002590fb646c_1').append('rect')\n      .attr('x', -1).attr('y', -1)\n      .attr('width', geom.inner_width+2).attr('height', geom.inner_height+2);\n\n    // Scales //////////////////////////////////////////////////////////////////////////////////////\n\n    var scale_x = d3.scale.linear()\n      .domain([15, 65])\n      .range([0, geom.inner_width]);\n    var scale_inner = d3.scale.linear().domain([0,1])\n      .range([-0.5, 0.5]);\n    var scale_y = d3.scale.linear()\n      .domain([-160, -60])\n      .range([geom.inner_height,0]);\n    zoom.x(scale_x).y(scale_y);\n\n    // Axes ////////////////////////////////////////////////////////////////////////////////////////\n\n    axes.append('g').attr('class', 'x axis')\n      .attr('transform','translate(0,' + geom.inner_height + ')');\n    axes.select('g.axis.x').append('text').attr('class', 'title')\n      .attr('text-anchor', 'middle')\n      .attr('x', geom.inner_width/2)\n      .attr('y', geom.inner_bottom - 6)\n      .text('Latitude');\n    axes.append('g').attr('class', 'y axis')\n      .attr('transform','translate(geom.chart_left, 0)');\n    axes.select('g.axis.y').append('text').attr('class', 'title')\n      .attr('text-anchor', 'middle')\n      .attr('x', -geom.inner_height/2)\n      .attr('y', 6-geom.inner_left).attr('dy', '0.7em').attr('transform', 'rotate(270)')\n      .text('Longitude');\n\n    var axis_bottom = d3.svg.axis()\n      .scale(scale_x).innerTickSize(3).outerTickSize(0)\n      .ticks(Math.min(10, Math.round(geom.inner_width / 28.5)));\n    var axis_left = d3.svg.axis().orient('left')\n      .scale(scale_y).innerTickSize(3).outerTickSize(0);\n\n    function buildAxes() {\n      axes.select('g.axis.x').call(axis_bottom);\n      axes.select('g.axis.y').call(axis_left);\n    }\n\n    // Define element #1 ///////////////////////////////////////////////////////////////////////////\n\n    elements[0] = function() {\n      var original, processed,           // data sets passed in and then transformed\n        element, data,                   // Brunel element information and brunel data\n        selection;                       // D3 selection\n      var elementGroup = interior.append('g').attr('class', 'element1'),\n        main = elementGroup.append('g').attr('class', 'main'),\n        labels = BrunelD3.undoTransform(elementGroup.append('g').attr('class', 'labels'), elementGroup);\n\n      function makeData() {\n        original = datasets[0];\n        if (filterRows) original = original.retainRows(filterRows);\n        processed = pre(original, 0);\n        processed = post(processed, 0);\n        var f0 = processed.field('Latitude'),\n          f1 = processed.field('Longitude'),\n          f2 = processed.field('Region'),\n          f3 = processed.field('#row');\n        var keyFunc = function(d) { return f3.value(d) };\n        data = {\n          Latitude:     function(d) { return f0.value(d.row) },\n          Longitude:    function(d) { return f1.value(d.row) },\n          Region:       function(d) { return f2.value(d.row) },\n          $row:         function(d) { return f3.value(d.row) },\n          Latitude_f:   function(d) { return f0.valueFormatted(d.row) },\n          Longitude_f:  function(d) { return f1.valueFormatted(d.row) },\n          Region_f:     function(d) { return f2.valueFormatted(d.row) },\n          $row_f:       function(d) { return f3.valueFormatted(d.row) },\n          _split:       function(d) { return f2.value(d.row) },\n          _key:         keyFunc,\n          _rows:        BrunelD3.makeRowsWithKeys(keyFunc, processed.rowCount())\n        };\n      }\n      // Aesthetic Functions\n      var scale_color = d3.scale.ordinal()\n        .domain(['Midwest', 'Mountain', 'Northeast', 'Pacific', 'South', 'South Atlantic'])\n        .range([ '#00538A', '#C10020', '#F4C800', '#007D34', '#803E75', '#FF6800', \n          '#817066', '#FFB300', '#F6768E', '#93AA00', '#53377A', '#FF8E00', '#B32851', \n          '#CEA262', '#FF7A5C', '#7F180D', '#593315', '#F13A13', '#232C16']);\n      var color = function(d) { return scale_color(data.Region(d)) };\n      BrunelD3.addLegend(legends, 'Region', scale_color, scale_color.domain());\n\n      // Build element from data ///////////////////////////////////////////////////////////////////\n\n      function build(transitionMillis) {\n        element = elements[0];\n        var x = function(d) { return scale_x(data.Latitude(d))};\n        var w = geom.default_point_size;\n        var y = function(d) { return scale_y(data.Longitude(d))};\n        var h = geom.default_point_size;\n        selection = main.selectAll('*').data(data._rows, function(d) { return d.key});\n        selection.enter().append('circle').attr('class',  'element point filled');\n\n        BrunelD3.trans(selection,transitionMillis)\n          .attr('cx',function(d) { return scale_x(data.Latitude(d))})\n          .attr('cy',function(d) { return scale_y(data.Longitude(d))})\n          .attr('r',geom.default_point_size / 2)\n          .style('fill', color);\n\n        BrunelD3.trans(selection.exit(),transitionMillis/3)\n          .style('opacity', 0.5).each( function() {this.remove(); if (this.__label__) this.__label__.remove()});\n      }\n\n      return {\n        data:           function() { return processed },\n        internal:       function() { return data },\n        selection:      function() { return selection },\n        makeData:       makeData,\n        build:          build,\n        fields: {\n          x:            ['Latitude'],\n          y:            ['Longitude'],\n          color:        ['Region']\n        }\n      };\n    }();\n\n    function build(time) {\n      var first = elements[0].data() == null;\n      if (first) time = 0; // No transition for first call\n      buildAxes(); \n      if (first || time>0) elements[0].makeData();\n      elements[0].build(time);\n    }\n\n    // Expose the following components of the chart\n    return { build : build, elements : elements };\n    }();\n\n  function setData(rowData, i) { datasets[i||0] = BrunelD3.makeData(rowData) }\n  function updateAll(time) { charts.forEach(function(x) {x.build(time || 20)}) }\n  function buildAll() {\n    for (var i=0;i<arguments.length;i++) setData(arguments[i], i);\n    updateAll(transitionTime);\n  }\n\n  return {\n    dataPreProcess:     function(f) { if (f) pre = f; return pre },\n    dataPostProcess:    function(f) { if (f) post = f; return post },\n    data:               function(d,i) { if (d) setData(d,i); return datasets[i||0] },\n    visId:              visId,\n    build:              buildAll,\n    rebuild:            updateAll,\n    charts:             charts\n  }\n}\n\n// Data Tables /////////////////////////////////////////////////////////////////////////////////////\n\nvar table1 = {\n   names: ['Latitude', 'Longitude', 'Region'], \n   options: ['numeric', 'numeric', 'string'], \n   rows: [[32.74, -86.84, 'South'], [63.35, -152.84, 'Pacific'], [34.21, -111.6, 'Mountain'],\n  [34.9, -92.44, 'South'], [37.15, -119.54, 'Pacific'], [38.99, -105.51, 'Mountain'],\n  [41.58, -72.75, 'Northeast'], [38.99, -75.45, 'South Atlantic'], [28.46, -82.41, 'South Atlantic'],\n  [32.63, -83.42, 'South Atlantic'], [19.81, -155.51, 'Pacific'], [44.3, -114.6, 'Mountain'],\n  [40.1, -89.15, 'Midwest'], [39.9, -86.28, 'Midwest'], [42.07, -93.49, 'Midwest'],\n  [38.5, -98.38, 'Midwest'], [37.53, -85.29, 'South'], [30.86, -91.8, 'South'],\n  [45.39, -68.66, 'Northeast'], [38.95, -76.67, 'South Atlantic'], [42.16, -71.49, 'Northeast'],\n  [44.84, -85.66, 'Midwest'], [46.32, -94.2, 'Midwest'], [32.69, -89.66, 'South'],\n  [38.35, -92.46, 'Midwest'], [47.05, -109.63, 'Mountain'], [41.54, -99.81, 'Midwest'],\n  [39.33, -116.62, 'Mountain'], [43.67, -71.58, 'Northeast'], [40.11, -74.67, 'Northeast'],\n  [34.44, -106.13, 'Mountain'], [42.91, -75.6, 'Northeast'], [35.54, -79.13, 'South Atlantic'],\n  [47.46, -100.46, 'Midwest'], [40.41, -82.71, 'Midwest'], [35.59, -97.49, 'South'],\n  [43.97, -120.62, 'Pacific'], [40.9, -77.83, 'Northeast'], [41.6, -71.53, 'Northeast'],\n  [33.87, -80.85, 'South Atlantic'], [44.45, -100.24, 'Midwest'], [35.86, -86.35, 'South'],\n  [31.43, -99.28, 'South'], [39.33, -111.66, 'Mountain'], [44.06, -72.67, 'Northeast'],\n  [37.52, -78.67, 'South Atlantic'], [47.42, -120.6, 'Pacific'], [38.65, -80.62, 'South Atlantic'],\n  [44.63, -89.71, 'Midwest'], [42.99, -107.54, 'Mountain']]\n};\n\n// Call Code to Build the system ///////////////////////////////////////////////////////////////////\n\nvar v = new BrunelVis('visidc7122f02-1ac9-11e7-b2e3-002590fb646c');\nv.build(table1);\n\n    \n});\n});"
                    }, 
                    "execution_count": 4, 
                    "output_type": "execute_result"
                }
            ], 
            "cell_type": "code", 
            "source": "%brunel data(\"http://brunel.mybluemix.net/sample_data/US States.csv\") x(latitude) y(longitude) point color(region)"
        }, 
        {
            "metadata": {}, 
            "cell_type": "markdown", 
            "source": "### We can now plot the summer temperature in each state, as bars, still grouping each region in a different color"
        }, 
        {
            "metadata": {
                "collapsed": false
            }, 
            "execution_count": null, 
            "outputs": [], 
            "cell_type": "code", 
            "source": "%brunel data(\"http://brunel.mybluemix.net/sample_data/US States.csv\") x(state) y(summer) bar color(region)"
        }, 
        {
            "metadata": {}, 
            "cell_type": "markdown", 
            "source": "### Transpose the graph using the corresponding keyword."
        }, 
        {
            "metadata": {
                "collapsed": false
            }, 
            "execution_count": null, 
            "outputs": [], 
            "cell_type": "code", 
            "source": "%brunel data(\"http://brunel.mybluemix.net/sample_data/US States.csv\") x(state) y(summer) bar transpose color(region)"
        }, 
        {
            "metadata": {}, 
            "cell_type": "markdown", 
            "source": "### The \"tooltip\" keyword is used to instruct brunel to display the underlying data when you hover on the various sections of the graph. Try hovering the mouse over the diagram below."
        }, 
        {
            "metadata": {
                "collapsed": false
            }, 
            "execution_count": null, 
            "outputs": [], 
            "cell_type": "code", 
            "source": "%brunel data(\"http://brunel.mybluemix.net/sample_data/US States.csv\") x(state) y(summer) bar color(region) tooltip(state)"
        }, 
        {
            "metadata": {}, 
            "cell_type": "markdown", 
            "source": "### When you plot a graph, you can have more than one single element on the Y axis (multiple 'series'). Here is an example below, where the X axis is still the state, as in the previous example, but the Y axis has both the summer and winter temperatures."
        }, 
        {
            "metadata": {
                "collapsed": false
            }, 
            "execution_count": null, 
            "outputs": [], 
            "cell_type": "code", 
            "source": "%brunel data(\"http://brunel.mybluemix.net/sample_data/US States.csv\") line x(state) y(summer, winter)"
        }, 
        {
            "metadata": {}, 
            "cell_type": "markdown", 
            "source": "### We can also combine the line data with the point data, so we can see the various data points making the lines."
        }, 
        {
            "metadata": {
                "collapsed": false
            }, 
            "execution_count": null, 
            "outputs": [], 
            "cell_type": "code", 
            "source": "%brunel data(\"http://brunel.mybluemix.net/sample_data/US States.csv\") line x(state) y(summer, winter) + x(state) y(summer, winter)"
        }, 
        {
            "metadata": {}, 
            "cell_type": "markdown", 
            "source": "### Next we can add colors again. We could identify different regions in the point data with colors as shown previously"
        }, 
        {
            "metadata": {
                "collapsed": false
            }, 
            "execution_count": null, 
            "outputs": [], 
            "cell_type": "code", 
            "source": "%brunel data(\"http://brunel.mybluemix.net/sample_data/US States.csv\") line x(state) y(summer, winter) + x(state) y(summer, winter) color(region)"
        }, 
        {
            "metadata": {}, 
            "cell_type": "markdown", 
            "source": "### But when working with multiple datasets on the Y axis, we can choose to color each \"series\" differently, leveraging the corresponding keyword"
        }, 
        {
            "metadata": {
                "collapsed": false
            }, 
            "execution_count": null, 
            "outputs": [], 
            "cell_type": "code", 
            "source": "%brunel data(\"http://brunel.mybluemix.net/sample_data/US States.csv\") line x(state) y(summer, winter) color(#series) + x(state) y(summer, winter) color(#series)"
        }, 
        {
            "metadata": {
                "collapsed": true
            }, 
            "cell_type": "markdown", 
            "source": "### Adding tooltip again. Try hovering your mouse over the data points in the diagram below..."
        }, 
        {
            "metadata": {
                "collapsed": false
            }, 
            "execution_count": null, 
            "outputs": [], 
            "cell_type": "code", 
            "source": "%brunel data(\"http://brunel.mybluemix.net/sample_data/US States.csv\") line x(state) y(summer, winter) color(#series)+ x(state) y(summer, winter) color(#series) tooltip(state, \": \", #series, \" = \", #values)"
        }, 
        {
            "metadata": {}, 
            "cell_type": "markdown", 
            "source": "### Additional example, using a bar graph."
        }, 
        {
            "metadata": {
                "collapsed": false
            }, 
            "execution_count": null, 
            "outputs": [], 
            "cell_type": "code", 
            "source": "%brunel data(\"http://brunel.mybluemix.net/sample_data/US States.csv\") bar x(state) yrange(summer, winter) sort(winter) tooltip(winter, summer)"
        }, 
        {
            "metadata": {}, 
            "cell_type": "markdown", 
            "source": "### Another example with stacked bars, counting the number of entries for each summer temperature across all states."
        }, 
        {
            "metadata": {
                "collapsed": false
            }, 
            "execution_count": null, 
            "outputs": [], 
            "cell_type": "code", 
            "source": "%brunel data(\"http://brunel.mybluemix.net/sample_data/US States.csv\")  stack bar x(summer)  y(#count) color(region) tooltip(#all)"
        }, 
        {
            "metadata": {}, 
            "cell_type": "markdown", 
            "source": "# <span style=\"color:blue\">Introduction to Spark-SQL and DataFrames</span>"
        }, 
        {
            "metadata": {
                "collapsed": true
            }, 
            "cell_type": "markdown", 
            "source": "### A Spark dataframe can be thought of as the equivalent of an SQL table. As a matter of fact, a data frame can be saved as a table. The code in the cell below should be fairly straightforward. Data is loaded from a standard schema in an existing dashDB instance (Schema: GoSales, Table: Branch)"
        }, 
        {
            "metadata": {
                "collapsed": true
            }, 
            "execution_count": null, 
            "outputs": [], 
            "cell_type": "code", 
            "source": "salesDF = sqlContext.read.format('jdbc').\\\n          options(url='jdbc:db2://dashdb-entry-yp-dal09-10.services.dal.bluemix.net:50000/BLUDB:user=dash6431;password=wXDVudMyrnia;',\\\n                  dbtable='GOSALES.BRANCH').load()"
        }, 
        {
            "metadata": {
                "collapsed": false
            }, 
            "execution_count": null, 
            "outputs": [], 
            "cell_type": "code", 
            "source": "salesDF.show(2)"
        }, 
        {
            "metadata": {}, 
            "cell_type": "markdown", 
            "source": "### Register the data frame as a temporary table"
        }, 
        {
            "metadata": {
                "collapsed": true
            }, 
            "execution_count": null, 
            "outputs": [], 
            "cell_type": "code", 
            "source": "salesDF.registerTempTable(\"SalesTables\")"
        }, 
        {
            "metadata": {}, 
            "cell_type": "markdown", 
            "source": "### Run some standard SQL statemens on the newly registered table"
        }, 
        {
            "metadata": {
                "collapsed": false
            }, 
            "execution_count": null, 
            "outputs": [], 
            "cell_type": "code", 
            "source": "query = \"\"\"Select * from SalesTables where CITY = 'Toronto'\"\"\"\n\nmyDF = sqlContext.sql(query)\nmyDF.show()"
        }, 
        {
            "metadata": {}, 
            "cell_type": "markdown", 
            "source": "### Once the table is registered as above, one can take full advantage of all SparkSQL capabilities, which is reasonably extended, although not ANSI SQL compliant"
        }, 
        {
            "metadata": {}, 
            "cell_type": "markdown", 
            "source": "### Instead of using SQL, Spark dataframes also support a Domain Specific Language (DSL) which is equivalent to SQL. For example, the select statement above can be rewritten as"
        }, 
        {
            "metadata": {
                "collapsed": false
            }, 
            "execution_count": null, 
            "outputs": [], 
            "cell_type": "code", 
            "source": "myDF2 = salesDF.filter(\"CITY='Toronto'\")\nmyDF2.show()"
        }, 
        {
            "metadata": {}, 
            "cell_type": "markdown", 
            "source": "### This DSL also supports joins, aggregations, group bys, etc..."
        }, 
        {
            "metadata": {}, 
            "cell_type": "markdown", 
            "source": "### Introduction to \"withColumn\".\n### withColumn allows you to define (and add) a new column to a dataframe. Example:"
        }, 
        {
            "metadata": {
                "collapsed": false
            }, 
            "execution_count": null, 
            "outputs": [], 
            "cell_type": "code", 
            "source": "myDF3 = myDF.withColumn(\"NEWCOL\", myDF2['ADDRESS1'][0:9])\nmyDF3.show()"
        }, 
        {
            "metadata": {}, 
            "cell_type": "markdown", 
            "source": "### We can convert between Spark and Pandas dataframes with ease. Pandas can display the data in a nice html formatted table."
        }, 
        {
            "metadata": {
                "collapsed": false
            }, 
            "execution_count": null, 
            "outputs": [], 
            "cell_type": "code", 
            "source": "myDF2p = myDF2.toPandas()\nmyDF2p"
        }, 
        {
            "metadata": {}, 
            "cell_type": "markdown", 
            "source": "### We can now use all Pandas capabilities such as the \"count\" method to get an analysis on the data in the dataframe. <br> You can look more at more Pandas capabilities in the \"BlocPower\" notebook available at this URL: https://github.com/IBMDataScience/SparkSummitDemo"
        }, 
        {
            "metadata": {
                "collapsed": false
            }, 
            "execution_count": null, 
            "outputs": [], 
            "cell_type": "code", 
            "source": "myDF2p.count()"
        }, 
        {
            "metadata": {
                "collapsed": true
            }, 
            "execution_count": null, 
            "outputs": [], 
            "cell_type": "code", 
            "source": ""
        }
    ], 
    "nbformat_minor": 0
}